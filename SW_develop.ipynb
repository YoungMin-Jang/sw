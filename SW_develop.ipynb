{
 "cells": [
  {
   "cell_type": "code",
   "execution_count": 37,
   "id": "9f2fe003-8e5e-4a84-a3bd-a5662163e7ee",
   "metadata": {},
   "outputs": [],
   "source": [
    "import cv2\n",
    "\n",
    "# 드로잉 상태 및 좌표 초기화\n",
    "drawing = False\n",
    "ix, iy = -1, -1  # 좌상단 좌표\n",
    "rectangles = []  # 사각형 정보를 저장할 리스트\n",
    "\n",
    "# 마우스 콜백 함수: 사각형 그리기\n",
    "def draw_rectangle(event, x, y, flags, param):\n",
    "    global ix, iy, drawing, rectangles\n",
    "\n",
    "    if event == cv2.EVENT_LBUTTONDOWN:\n",
    "        # 첫 번째 클릭: 사각형 시작점 설정\n",
    "        drawing = True\n",
    "        ix, iy = x, y\n",
    "\n",
    "    elif event == cv2.EVENT_MOUSEMOVE:\n",
    "        if drawing:\n",
    "            # 마우스 이동 중: 임시로 사각형 표시\n",
    "            temp_image = param.copy()\n",
    "            cv2.rectangle(temp_image, (ix, iy), (x, y), (0, 255, 0), 2)\n",
    "            cv2.imshow(\"Rectangle Drawer\", temp_image)\n",
    "\n",
    "    elif event == cv2.EVENT_LBUTTONUP:\n",
    "        # 두 번째 클릭: 사각형 종료점 설정\n",
    "        drawing = False\n",
    "        # 사각형 좌표 및 크기 계산\n",
    "        x_min, y_min = min(ix, x), min(iy, y)\n",
    "        x_max, y_max = max(ix, x), max(iy, y)\n",
    "        w, h = x_max - x_min, y_max - y_min\n",
    "        rectangles.append((x_min, y_min, w, h))\n",
    "        # 최종 사각형 그리기\n",
    "        cv2.rectangle(param, (x_min, y_min), (x_max, y_max), (0, 255, 0), 2)\n",
    "        cv2.imshow(\"Rectangle Drawer\", param)\n",
    "\n",
    "# 이미지 처리 함수\n",
    "def draw_on_images(image_paths):\n",
    "    global rectangles\n",
    "    for image_path in image_paths:\n",
    "        rectangles.clear()  # 새 이미지에서 이전 데이터 초기화\n",
    "        # 이미지 읽기\n",
    "        image = cv2.imread(image_path)\n",
    "        if image is None:\n",
    "            print(f\"이미지를 찾을 수 없습니다: {image_path}\")\n",
    "            continue\n",
    "\n",
    "        cv2.namedWindow(\"Rectangle Drawer\")\n",
    "        # 마우스 콜백 설정\n",
    "        cv2.setMouseCallback(\"Rectangle Drawer\", draw_rectangle, param=image)\n",
    "\n",
    "        while True:\n",
    "            cv2.imshow(\"Rectangle Drawer\", image)\n",
    "            key = cv2.waitKey(1) & 0xFF\n",
    "\n",
    "            # 'n'을 누르면 다음 이미지로\n",
    "            if key == ord(\"n\"):\n",
    "                print(f\"다음 이미지로 넘어갑니다: {image_path}\")\n",
    "                break\n",
    "            # 's'를 누르면 저장\n",
    "            elif key == ord(\"s\"):\n",
    "                print(f\"저장된 사각형들: {rectangles}\")\n",
    "                with open(\"rectangles.txt\", \"a\") as file:\n",
    "                    file.write(f\"이미지: {image_path}\\n\")\n",
    "                    for rect in rectangles:\n",
    "                        file.write(f\"{rect}\\n\")\n",
    "                print(\"데이터가 rectangles.txt에 저장되었습니다.\")\n",
    "            # 'q'를 누르면 전체 종료\n",
    "            elif key == ord(\"q\"):\n",
    "                cv2.destroyAllWindows()\n",
    "                return\n",
    "\n",
    "        cv2.destroyWindow(\"Rectangle Drawer\")\n",
    "\n"
   ]
  },
  {
   "cell_type": "code",
   "execution_count": 39,
   "id": "03d87f69-9711-4fbb-befd-089351bd7adc",
   "metadata": {},
   "outputs": [],
   "source": [
    "def display_saved_rectangles(file_path):\n",
    "    saved_data = load_saved_rectangles(file_path)\n",
    "    if not saved_data:\n",
    "        print(\"저장된 데이터가 없습니다.\")\n",
    "        return\n",
    "\n",
    "    for image, rect in saved_data:\n",
    "        print(f\"이미지: {image}, 사각형: {rect}\")\n"
   ]
  },
  {
   "cell_type": "code",
   "execution_count": 41,
   "id": "c6217151-fb87-4b97-8da4-5b6580cf2e2c",
   "metadata": {},
   "outputs": [
    {
     "name": "stdout",
     "output_type": "stream",
     "text": [
      "저장된 사각형들: [(199, 39, 398, 370)]\n",
      "데이터가 rectangles.txt에 저장되었습니다.\n",
      "다음 이미지로 넘어갑니다: C:\\Users\\jym\\Desktop\\sw_del\\SW_Dev\\source tree\\000000000785.jpg\n",
      "저장된 사각형들: [(33, 49, 449, 495)]\n",
      "데이터가 rectangles.txt에 저장되었습니다.\n",
      "다음 이미지로 넘어갑니다: C:\\Users\\jym\\Desktop\\sw_del\\SW_Dev\\source tree\\000000000285.jpg\n",
      "저장된 사각형들: [(73, 92, 143, 160)]\n",
      "데이터가 rectangles.txt에 저장되었습니다.\n"
     ]
    }
   ],
   "source": [
    "# 예제 사용\n",
    "if __name__ == \"__main__\":\n",
    "    image_paths = [\n",
    "        r\"C:\\Users\\jym\\Desktop\\sw_del\\SW_Dev\\source tree\\000000000785.jpg\",\n",
    "        r\"C:\\Users\\jym\\Desktop\\sw_del\\SW_Dev\\source tree\\000000000285.jpg\",\n",
    "        r\"C:\\Users\\jym\\Desktop\\sw_del\\SW_Dev\\source tree\\000000000632.jpg\"\n",
    "    ]  # 여기에 처리할 이미지 경로를 리스트로 추가하세요\n",
    "    draw_on_images(image_paths)\n"
   ]
  },
  {
   "cell_type": "code",
   "execution_count": 43,
   "id": "2a480648-2dec-449a-b936-635b0c130660",
   "metadata": {},
   "outputs": [
    {
     "ename": "NameError",
     "evalue": "name 'displayed_saved_rectangles' is not defined",
     "output_type": "error",
     "traceback": [
      "\u001b[1;31m---------------------------------------------------------------------------\u001b[0m",
      "\u001b[1;31mNameError\u001b[0m                                 Traceback (most recent call last)",
      "Cell \u001b[1;32mIn[43], line 1\u001b[0m\n\u001b[1;32m----> 1\u001b[0m displayed_saved_rectangles()\n",
      "\u001b[1;31mNameError\u001b[0m: name 'displayed_saved_rectangles' is not defined"
     ]
    }
   ],
   "source": []
  }
 ],
 "metadata": {
  "kernelspec": {
   "display_name": "Python 3 (ipykernel)",
   "language": "python",
   "name": "python3"
  },
  "language_info": {
   "codemirror_mode": {
    "name": "ipython",
    "version": 3
   },
   "file_extension": ".py",
   "mimetype": "text/x-python",
   "name": "python",
   "nbconvert_exporter": "python",
   "pygments_lexer": "ipython3",
   "version": "3.12.4"
  }
 },
 "nbformat": 4,
 "nbformat_minor": 5
}
